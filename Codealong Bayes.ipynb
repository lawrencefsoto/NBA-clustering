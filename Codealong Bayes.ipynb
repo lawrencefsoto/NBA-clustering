{
 "cells": [
  {
   "cell_type": "code",
   "execution_count": 1,
   "metadata": {},
   "outputs": [],
   "source": [
    "import numpy as np"
   ]
  },
  {
   "cell_type": "code",
   "execution_count": 2,
   "metadata": {},
   "outputs": [
    {
     "data": {
      "text/plain": [
       "0.33860000000000001"
      ]
     },
     "execution_count": 2,
     "metadata": {},
     "output_type": "execute_result"
    }
   ],
   "source": [
    "# First strategy, where I pick a door and stay with it.\n",
    "choices = []\n",
    "for i in range (10000):\n",
    "    selection = np.random.choice([1,0,0])\n",
    "    choices.append(selection)\n",
    "np.mean(choices)"
   ]
  },
  {
   "cell_type": "code",
   "execution_count": 3,
   "metadata": {},
   "outputs": [
    {
     "data": {
      "text/plain": [
       "0.66859999999999997"
      ]
     },
     "execution_count": 3,
     "metadata": {},
     "output_type": "execute_result"
    }
   ],
   "source": [
    "# Second strategy, where we switch\n",
    "#0== goat\n",
    "#1== car\n",
    "choices = []\n",
    "for i in range (10000):\n",
    "    doors = [1,0,0]\n",
    "    first_door = np.random.choice(doors)\n",
    "    # we're not sticking with our first choice\n",
    "    doors.remove(first_door)\n",
    "    # Monty Hall needs to show us a goat\n",
    "    doors.remove(0)\n",
    "    final_door = doors[0]\n",
    "    choices.append(final_door)\n",
    "np.mean(choices)"
   ]
  },
  {
   "cell_type": "code",
   "execution_count": null,
   "metadata": {},
   "outputs": [],
   "source": []
  },
  {
   "cell_type": "code",
   "execution_count": null,
   "metadata": {},
   "outputs": [],
   "source": []
  },
  {
   "cell_type": "code",
   "execution_count": null,
   "metadata": {},
   "outputs": [],
   "source": []
  }
 ],
 "metadata": {
  "kernelspec": {
   "display_name": "Python 3",
   "language": "python",
   "name": "python3"
  },
  "language_info": {
   "codemirror_mode": {
    "name": "ipython",
    "version": 3
   },
   "file_extension": ".py",
   "mimetype": "text/x-python",
   "name": "python",
   "nbconvert_exporter": "python",
   "pygments_lexer": "ipython3",
   "version": "3.6.5"
  }
 },
 "nbformat": 4,
 "nbformat_minor": 2
}
